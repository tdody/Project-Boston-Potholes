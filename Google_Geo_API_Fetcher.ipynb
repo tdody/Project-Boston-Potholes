{
 "cells": [
  {
   "cell_type": "markdown",
   "metadata": {},
   "source": [
    "# Retrieve Locations"
   ]
  },
  {
   "cell_type": "markdown",
   "metadata": {},
   "source": [
    "The purpose of this notebook is to retrieve the locations of the incomplete records. To do so, the Google geo-API is used. It has a limit of 2500 queries per day. Therefore, the following algorithm will have to be able to run mutliple times on the csv containing the locations in order to archieve the retrieval."
   ]
  },
  {
   "cell_type": "code",
   "execution_count": 4,
   "metadata": {
    "collapsed": true
   },
   "outputs": [],
   "source": [
    "# The Geocoder module is used.\n",
    "from pygeocoder import Geocoder\n",
    "import time\n",
    "import pandas as pd"
   ]
  },
  {
   "cell_type": "code",
   "execution_count": 5,
   "metadata": {
    "collapsed": true
   },
   "outputs": [],
   "source": [
    "# Files\n",
    "input_file = \"./Intermediate Data/Missing_Zip_Lat_Long.csv\"\n",
    "output_file = \"./Intermediate Data/Retrieved_Zip_Lat_Long.csv\""
   ]
  },
  {
   "cell_type": "code",
   "execution_count": 8,
   "metadata": {},
   "outputs": [],
   "source": [
    "# Load dataframe and open the output file\n",
    "missing_location_df = pd.read_csv(input_file)\n",
    "\n",
    "# Open the connection with the ouput file as \"append\"\n",
    "output  = open(output_file, 'a')"
   ]
  },
  {
   "cell_type": "code",
   "execution_count": null,
   "metadata": {
    "collapsed": true
   },
   "outputs": [],
   "source": []
  },
  {
   "cell_type": "code",
   "execution_count": null,
   "metadata": {
    "collapsed": true
   },
   "outputs": [],
   "source": []
  },
  {
   "cell_type": "code",
   "execution_count": null,
   "metadata": {
    "collapsed": true
   },
   "outputs": [],
   "source": []
  },
  {
   "cell_type": "code",
   "execution_count": null,
   "metadata": {
    "collapsed": true
   },
   "outputs": [],
   "source": [
    "def CorrectLongitudeLatitude(df):\n",
    "    '''\n",
    "    Goal: retrieve the longitude and latitude of a given pothole.\n",
    "    Input: Complete dataframe row.\n",
    "    Output: a tuple with the longitude and latitude.\n",
    "    '''\n",
    "    Results = []\n",
    "    Addresses = []\n",
    "    Failures = 0\n",
    "    Size = df.shape[0]\n",
    "    \n",
    "    print(\"Fetch starts on \" + str(Size) + \" items...\")\n",
    "    i=0\n",
    "    for index, row in potholes_default.iterrows():\n",
    "        Address_str = row['Location']\n",
    "        time.sleep(0.2)\n",
    "        # First brute pass\n",
    "        try:\n",
    "            Results.append(Address_str)\n",
    "            Addresses.append(Geocoder.geocode(Address_str).coordinates)\n",
    "        except:\n",
    "            Results.append(\"ERROR\")\n",
    "            Addresses.append(\"ERROR\")\n",
    "            Failures+=1\n",
    "            i+=1\n",
    "        if i%50==0:\n",
    "            print(\"Done with \"+str(i)+\" records. \"+ str(Failures)+\" failures encountered...\")\n",
    "    print(\"Fetch completed.\")\n",
    "    print(str(Failures) + \" failures encountered.\")\n",
    "    return Results, Addresses"
   ]
  },
  {
   "cell_type": "code",
   "execution_count": null,
   "metadata": {
    "collapsed": true
   },
   "outputs": [],
   "source": []
  }
 ],
 "metadata": {
  "kernelspec": {
   "display_name": "Python 3",
   "language": "python",
   "name": "python3"
  },
  "language_info": {
   "codemirror_mode": {
    "name": "ipython",
    "version": 3
   },
   "file_extension": ".py",
   "mimetype": "text/x-python",
   "name": "python",
   "nbconvert_exporter": "python",
   "pygments_lexer": "ipython3",
   "version": "3.6.1"
  }
 },
 "nbformat": 4,
 "nbformat_minor": 2
}
